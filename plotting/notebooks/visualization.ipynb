{
 "cells": [
  {
   "cell_type": "code",
   "execution_count": 4,
   "id": "dynamic-retail",
   "metadata": {},
   "outputs": [
    {
     "name": "stdout",
     "output_type": "stream",
     "text": [
      "regression\n"
     ]
    },
    {
     "ename": "FileNotFoundError",
     "evalue": "[Errno 2] No such file or directory: '../../results/regression/exp9/csv/gaussianLinear_0.0.csv'",
     "output_type": "error",
     "traceback": [
      "\u001b[0;31m---------------------------------------------------------------------------\u001b[0m",
      "\u001b[0;31mFileNotFoundError\u001b[0m                         Traceback (most recent call last)",
      "\u001b[0;32m<ipython-input-4-bf749eb507c6>\u001b[0m in \u001b[0;36m<module>\u001b[0;34m\u001b[0m\n\u001b[1;32m     39\u001b[0m             \u001b[0mprint\u001b[0m\u001b[0;34m(\u001b[0m\u001b[0mmode\u001b[0m\u001b[0;34m)\u001b[0m\u001b[0;34m\u001b[0m\u001b[0;34m\u001b[0m\u001b[0m\n\u001b[1;32m     40\u001b[0m             \u001b[0mfile_path\u001b[0m \u001b[0;34m=\u001b[0m \u001b[0mos\u001b[0m\u001b[0;34m.\u001b[0m\u001b[0mpath\u001b[0m\u001b[0;34m.\u001b[0m\u001b[0mjoin\u001b[0m\u001b[0;34m(\u001b[0m\u001b[0mresults_dir\u001b[0m\u001b[0;34m,\u001b[0m \u001b[0mmode\u001b[0m\u001b[0;34m,\u001b[0m \u001b[0;34m\"exp9\"\u001b[0m\u001b[0;34m,\u001b[0m \u001b[0;34m\"csv\"\u001b[0m\u001b[0;34m,\u001b[0m \u001b[0;34mf\"{dataset}_{rho}.csv\"\u001b[0m\u001b[0;34m)\u001b[0m\u001b[0;34m\u001b[0m\u001b[0;34m\u001b[0m\u001b[0m\n\u001b[0;32m---> 41\u001b[0;31m             \u001b[0mcollect_data\u001b[0m\u001b[0;34m(\u001b[0m\u001b[0mfile_path\u001b[0m\u001b[0;34m,\u001b[0m \u001b[0mrho\u001b[0m\u001b[0;34m)\u001b[0m\u001b[0;34m\u001b[0m\u001b[0;34m\u001b[0m\u001b[0m\n\u001b[0m\u001b[1;32m     42\u001b[0m \u001b[0;34m\u001b[0m\u001b[0m\n\u001b[1;32m     43\u001b[0m         \u001b[0;32mfor\u001b[0m \u001b[0midx\u001b[0m\u001b[0;34m,\u001b[0m \u001b[0mmodel\u001b[0m \u001b[0;32min\u001b[0m \u001b[0menumerate\u001b[0m\u001b[0;34m(\u001b[0m\u001b[0mmodels\u001b[0m\u001b[0;34m)\u001b[0m\u001b[0;34m:\u001b[0m\u001b[0;34m\u001b[0m\u001b[0;34m\u001b[0m\u001b[0m\n",
      "\u001b[0;32m<ipython-input-4-bf749eb507c6>\u001b[0m in \u001b[0;36mcollect_data\u001b[0;34m(file_path, rho)\u001b[0m\n\u001b[1;32m     19\u001b[0m \u001b[0;34m\u001b[0m\u001b[0m\n\u001b[1;32m     20\u001b[0m \u001b[0;32mdef\u001b[0m \u001b[0mcollect_data\u001b[0m\u001b[0;34m(\u001b[0m\u001b[0mfile_path\u001b[0m\u001b[0;34m,\u001b[0m \u001b[0mrho\u001b[0m\u001b[0;34m)\u001b[0m\u001b[0;34m:\u001b[0m\u001b[0;34m\u001b[0m\u001b[0;34m\u001b[0m\u001b[0m\n\u001b[0;32m---> 21\u001b[0;31m     \u001b[0mlines\u001b[0m \u001b[0;34m=\u001b[0m \u001b[0mopen\u001b[0m\u001b[0;34m(\u001b[0m\u001b[0mfile_path\u001b[0m\u001b[0;34m,\u001b[0m \u001b[0;34m'r'\u001b[0m\u001b[0;34m)\u001b[0m\u001b[0;34m.\u001b[0m\u001b[0mreadlines\u001b[0m\u001b[0;34m(\u001b[0m\u001b[0;34m)\u001b[0m\u001b[0;34m\u001b[0m\u001b[0;34m\u001b[0m\u001b[0m\n\u001b[0m\u001b[1;32m     22\u001b[0m     \u001b[0;32mfor\u001b[0m \u001b[0midx\u001b[0m\u001b[0;34m,\u001b[0m \u001b[0mline\u001b[0m \u001b[0;32min\u001b[0m \u001b[0menumerate\u001b[0m\u001b[0;34m(\u001b[0m\u001b[0mlines\u001b[0m\u001b[0;34m)\u001b[0m\u001b[0;34m:\u001b[0m\u001b[0;34m\u001b[0m\u001b[0;34m\u001b[0m\u001b[0m\n\u001b[1;32m     23\u001b[0m         \u001b[0;32mif\u001b[0m \u001b[0mline\u001b[0m\u001b[0;34m.\u001b[0m\u001b[0mstrip\u001b[0m\u001b[0;34m(\u001b[0m\u001b[0;34m)\u001b[0m\u001b[0;34m.\u001b[0m\u001b[0msplit\u001b[0m\u001b[0;34m(\u001b[0m\u001b[0;34m\",\"\u001b[0m\u001b[0;34m)\u001b[0m\u001b[0;34m[\u001b[0m\u001b[0;36m0\u001b[0m\u001b[0;34m]\u001b[0m \u001b[0;32min\u001b[0m \u001b[0mmodels\u001b[0m\u001b[0;34m:\u001b[0m\u001b[0;34m\u001b[0m\u001b[0;34m\u001b[0m\u001b[0m\n",
      "\u001b[0;31mFileNotFoundError\u001b[0m: [Errno 2] No such file or directory: '../../results/regression/exp9/csv/gaussianLinear_0.0.csv'"
     ]
    },
    {
     "data": {
      "image/png": "[encoded data removed]",
      "text/plain": [
       "<Figure size 1080x864 with 9 Axes>"
      ]
     },
     "metadata": {
      "needs_background": "light"
     },
     "output_type": "display_data"
    }
   ],
   "source": [
    "import matplotlib.pyplot as plt\n",
    "from matplotlib.ticker import FormatStrFormatter\n",
    "# plt.rc('pgf', texsystem='pdflatex')\n",
    "# plt.style.use('science')\n",
    "plt.rcParams[\"figure.figsize\"] = (17,17)\n",
    "import os\n",
    "import pandas as pd\n",
    "\n",
    "mode=\"regression\"\n",
    "datasets={\"regression\": [\"gaussianLinear\", \"gaussianNonLinearAdditive\", \"gaussianPiecewiseConstant\"]}\n",
    "metrics=[\"roar_faithfulness\", \"roar_monotonicity\", \"faithfulness\", \"monotonicity\", \"shapley\"]\n",
    "results_dir=\"../../results/\"\n",
    "output_dir=f\"plots/{mode}\"\n",
    "\n",
    "# Important initializations\n",
    "rhos = [0.0, 0.25, 0.5, 0.75, 0.99]\n",
    "explainers = [\"random\", \"shap\", \"shapr\", \"brutekernelshap\", \"maple\", \"lime\", \"l2x\"]\n",
    "models = ['LR', 'DTREE', 'MLP']\n",
    "\n",
    "def collect_data(file_path, rho):\n",
    "    lines = open(file_path, 'r').readlines()\n",
    "    for idx, line in enumerate(lines):\n",
    "        if line.strip().split(\",\")[0] in models:\n",
    "            model = line.strip().split(\",\")[0]\n",
    "            model_perfs[model][rho] = line.strip().split(\",\")[1:]\n",
    "            df = pd.read_csv(file_path, skiprows=idx+1, nrows=len(explainers))\n",
    "            df.columns.values[0] = \"explainer\"\n",
    "            scores[model][rho] = df\n",
    "\n",
    "for metric in metrics:\n",
    "    num_models, num_datasets = len(models), len(datasets[mode])\n",
    "    fig, axs = plt.subplots(figsize=(5.0*num_models, 4.0*num_datasets), nrows=num_datasets, ncols=num_models)\n",
    "\n",
    "    for data_idx, dataset in enumerate(datasets[mode]):\n",
    "        scores = {model: {} for model in models}\n",
    "        model_perfs = {model: {} for model in models}\n",
    "\n",
    "        for rho in rhos:\n",
    "            print(mode)\n",
    "            file_path = os.path.join(results_dir, mode, \"exp9\", \"csv\", f\"{dataset}_{rho}.csv\")\n",
    "            collect_data(file_path, rho)\n",
    "\n",
    "        for idx, model in enumerate(models):\n",
    "            for explainer in explainers:\n",
    "                values = [scores[model][r].query(f'explainer==\"{explainer}\"')[metric] for r in rhos]\n",
    "                axs[data_idx][idx].plot(rhos, values, linewidth=5, label = explainer)\n",
    "            axs2 = axs[data_idx][idx].twinx()\n",
    "            axs[data_idx][idx].yaxis.set_major_formatter(FormatStrFormatter('%.2f'))\n",
    "            axs2.yaxis.set_major_formatter(FormatStrFormatter('%.2f'))\n",
    "            perfs = [float(model_perfs[model][r][1]) for r in rhos]\n",
    "            axs2.plot(rhos, perfs, linestyle='dashed', color='lightgrey', label='modelPerf')\n",
    "            axs[data_idx][idx].set_xlabel(\"Rho\")\n",
    "            # axs[data_idx][idx].set_ylabel(f\"{metric} metric value\")\n",
    "            if idx == 0:\n",
    "                axs[data_idx][idx].set_ylabel(dataset, fontsize=14)\n",
    "            if data_idx == 0:\n",
    "                axs[data_idx][idx].set_title(model)\n",
    "            if model == \"DTREE\":\n",
    "                lines, labels = axs[data_idx][idx].get_legend_handles_labels()\n",
    "                lines2, labels2 = axs2.get_legend_handles_labels()\n",
    "                axs[data_idx][idx].legend(lines + lines2, labels + labels2, loc=0)\n",
    "                # axs[data_idx][idx].legend()  # bbox_to_anchor=(1.1, 1.05), loc=\"upper right\")\n",
    "    # fig.suptitle(f\"Performance of explainers on the {metric} metric\", fontsize=20)\n",
    "    plt.show()\n",
    "    plt_save_path = os.path.join(output_dir, f\"{metric}_all.pdf\")\n",
    "    if not os.path.exists(os.path.dirname(plt_save_path)):\n",
    "        os.makedirs(os.path.dirname(plt_save_path))\n",
    "    fig.tight_layout()\n",
    "    plt.savefig(plt_save_path, bbox_inches='tight')\n",
    "    plt.clf()\n",
    "    plt.cla()"
   ]
  },
  {
   "cell_type": "code",
   "execution_count": null,
   "id": "regional-affect",
   "metadata": {},
   "outputs": [],
   "source": []
  }
 ],
 "metadata": {
  "kernelspec": {
   "display_name": "Python 3",
   "language": "python",
   "name": "python3"
  },
  "language_info": {
   "codemirror_mode": {
    "name": "ipython",
    "version": 3
   },
   "file_extension": ".py",
   "mimetype": "text/x-python",
   "name": "python",
   "nbconvert_exporter": "python",
   "pygments_lexer": "ipython3",
   "version": "3.6.13"
  }
 },
 "nbformat": 4,
 "nbformat_minor": 5
}
